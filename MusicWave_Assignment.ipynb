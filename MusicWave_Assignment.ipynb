{
  "nbformat": 4,
  "nbformat_minor": 0,
  "metadata": {
    "colab": {
      "provenance": [],
      "include_colab_link": true
    },
    "kernelspec": {
      "name": "python3",
      "display_name": "Python 3"
    },
    "language_info": {
      "name": "python"
    }
  },
  "cells": [
    {
      "cell_type": "markdown",
      "metadata": {
        "id": "view-in-github",
        "colab_type": "text"
      },
      "source": [
        "<a href=\"https://colab.research.google.com/github/Rajamba/CodewithBenjamin/blob/master/MusicWave_Assignment.ipynb\" target=\"_parent\"><img src=\"https://colab.research.google.com/assets/colab-badge.svg\" alt=\"Open In Colab\"/></a>"
      ]
    },
    {
      "cell_type": "markdown",
      "source": [
        "# **Chinook Database Analysis Assignment**\n",
        "\n",
        "## **Scenario:**\n",
        "\n",
        "You are a data analyst at **MusicWave Inc.**, a company that specializes in music distribution and sales. Your company uses the Chinook database to manage its music collection, sales, and customer information. Recently, your manager has tasked you with analyzing the database to extract valuable insights that can help the company make informed business decisions.\n",
        "\n",
        "## **Introduction to the Chinook Database:**\n",
        "\n",
        "The Chinook database is a sample database that represents a digital media store. It includes tables for:\n",
        "- **Artists**: Information about the music artists.\n",
        "- **Albums**: Information about the albums, each linked to an artist.\n",
        "- **Tracks**: Information about individual tracks, including which album they belong to.\n",
        "- **Customers**: Information about the customers.\n",
        "- **Invoices**: Information about sales transactions.\n",
        "- **InvoiceLines**: Detailed information about each item in an invoice.\n",
        "- **Genres**: Information about the genres of the tracks.\n",
        "- **MediaTypes**: Information about the types of media.\n",
        "- **Employees**: Information about the employees.\n",
        "\n",
        "The database schema allows for complex queries to analyze various aspects of the music store's operations.\n",
        "\n",
        "## **Getting Started:**\n",
        "\n",
        "### **Download the Chinook Database**\n",
        "\n",
        "1. Download the Chinook SQLite database from [here](https://github.com/lerocha/chinook-database/raw/master/ChinookDatabase/DataSources/Chinook_Sqlite.sqlite).\n",
        "\n",
        "2. Upload the `Chinook_Sqlite.sqlite` file to your Google Colab environment.\n",
        "\n",
        "### **Setting Up the Environment**\n",
        "\n",
        "Run the following cells to set up your environment and connect to the Chinook database.\n",
        "\n",
        "```python\n",
        "# Install sqlite3 library (if not already installed)\n",
        "!pip install sqlite3\n",
        "\n",
        "# Import necessary libraries\n",
        "import sqlite3\n",
        "import pandas as pd\n",
        "\n",
        "# Connect to the SQLite database\n",
        "conn = sqlite3.connect('Chinook_Sqlite.sqlite')\n"
      ],
      "metadata": {
        "id": "2-kEG5-hI2hB"
      }
    },
    {
      "cell_type": "code",
      "execution_count": null,
      "metadata": {
        "colab": {
          "base_uri": "https://localhost:8080/",
          "height": 394
        },
        "id": "_dRd76_1G4JM",
        "outputId": "1a5fd274-c28b-411b-bebb-19619af96c29"
      },
      "outputs": [
        {
          "output_type": "execute_result",
          "data": {
            "text/plain": [
              "     type           name\n",
              "0   table          Album\n",
              "1   table         Artist\n",
              "2   table       Customer\n",
              "3   table       Employee\n",
              "4   table          Genre\n",
              "5   table        Invoice\n",
              "6   table    InvoiceLine\n",
              "7   table      MediaType\n",
              "8   table       Playlist\n",
              "9   table  PlaylistTrack\n",
              "10  table          Track"
            ],
            "text/html": [
              "\n",
              "  <div id=\"df-cfa14df4-7505-4a8a-a985-c7476249dc38\" class=\"colab-df-container\">\n",
              "    <div>\n",
              "<style scoped>\n",
              "    .dataframe tbody tr th:only-of-type {\n",
              "        vertical-align: middle;\n",
              "    }\n",
              "\n",
              "    .dataframe tbody tr th {\n",
              "        vertical-align: top;\n",
              "    }\n",
              "\n",
              "    .dataframe thead th {\n",
              "        text-align: right;\n",
              "    }\n",
              "</style>\n",
              "<table border=\"1\" class=\"dataframe\">\n",
              "  <thead>\n",
              "    <tr style=\"text-align: right;\">\n",
              "      <th></th>\n",
              "      <th>type</th>\n",
              "      <th>name</th>\n",
              "    </tr>\n",
              "  </thead>\n",
              "  <tbody>\n",
              "    <tr>\n",
              "      <th>0</th>\n",
              "      <td>table</td>\n",
              "      <td>Album</td>\n",
              "    </tr>\n",
              "    <tr>\n",
              "      <th>1</th>\n",
              "      <td>table</td>\n",
              "      <td>Artist</td>\n",
              "    </tr>\n",
              "    <tr>\n",
              "      <th>2</th>\n",
              "      <td>table</td>\n",
              "      <td>Customer</td>\n",
              "    </tr>\n",
              "    <tr>\n",
              "      <th>3</th>\n",
              "      <td>table</td>\n",
              "      <td>Employee</td>\n",
              "    </tr>\n",
              "    <tr>\n",
              "      <th>4</th>\n",
              "      <td>table</td>\n",
              "      <td>Genre</td>\n",
              "    </tr>\n",
              "    <tr>\n",
              "      <th>5</th>\n",
              "      <td>table</td>\n",
              "      <td>Invoice</td>\n",
              "    </tr>\n",
              "    <tr>\n",
              "      <th>6</th>\n",
              "      <td>table</td>\n",
              "      <td>InvoiceLine</td>\n",
              "    </tr>\n",
              "    <tr>\n",
              "      <th>7</th>\n",
              "      <td>table</td>\n",
              "      <td>MediaType</td>\n",
              "    </tr>\n",
              "    <tr>\n",
              "      <th>8</th>\n",
              "      <td>table</td>\n",
              "      <td>Playlist</td>\n",
              "    </tr>\n",
              "    <tr>\n",
              "      <th>9</th>\n",
              "      <td>table</td>\n",
              "      <td>PlaylistTrack</td>\n",
              "    </tr>\n",
              "    <tr>\n",
              "      <th>10</th>\n",
              "      <td>table</td>\n",
              "      <td>Track</td>\n",
              "    </tr>\n",
              "  </tbody>\n",
              "</table>\n",
              "</div>\n",
              "    <div class=\"colab-df-buttons\">\n",
              "\n",
              "  <div class=\"colab-df-container\">\n",
              "    <button class=\"colab-df-convert\" onclick=\"convertToInteractive('df-cfa14df4-7505-4a8a-a985-c7476249dc38')\"\n",
              "            title=\"Convert this dataframe to an interactive table.\"\n",
              "            style=\"display:none;\">\n",
              "\n",
              "  <svg xmlns=\"http://www.w3.org/2000/svg\" height=\"24px\" viewBox=\"0 -960 960 960\">\n",
              "    <path d=\"M120-120v-720h720v720H120Zm60-500h600v-160H180v160Zm220 220h160v-160H400v160Zm0 220h160v-160H400v160ZM180-400h160v-160H180v160Zm440 0h160v-160H620v160ZM180-180h160v-160H180v160Zm440 0h160v-160H620v160Z\"/>\n",
              "  </svg>\n",
              "    </button>\n",
              "\n",
              "  <style>\n",
              "    .colab-df-container {\n",
              "      display:flex;\n",
              "      gap: 12px;\n",
              "    }\n",
              "\n",
              "    .colab-df-convert {\n",
              "      background-color: #E8F0FE;\n",
              "      border: none;\n",
              "      border-radius: 50%;\n",
              "      cursor: pointer;\n",
              "      display: none;\n",
              "      fill: #1967D2;\n",
              "      height: 32px;\n",
              "      padding: 0 0 0 0;\n",
              "      width: 32px;\n",
              "    }\n",
              "\n",
              "    .colab-df-convert:hover {\n",
              "      background-color: #E2EBFA;\n",
              "      box-shadow: 0px 1px 2px rgba(60, 64, 67, 0.3), 0px 1px 3px 1px rgba(60, 64, 67, 0.15);\n",
              "      fill: #174EA6;\n",
              "    }\n",
              "\n",
              "    .colab-df-buttons div {\n",
              "      margin-bottom: 4px;\n",
              "    }\n",
              "\n",
              "    [theme=dark] .colab-df-convert {\n",
              "      background-color: #3B4455;\n",
              "      fill: #D2E3FC;\n",
              "    }\n",
              "\n",
              "    [theme=dark] .colab-df-convert:hover {\n",
              "      background-color: #434B5C;\n",
              "      box-shadow: 0px 1px 3px 1px rgba(0, 0, 0, 0.15);\n",
              "      filter: drop-shadow(0px 1px 2px rgba(0, 0, 0, 0.3));\n",
              "      fill: #FFFFFF;\n",
              "    }\n",
              "  </style>\n",
              "\n",
              "    <script>\n",
              "      const buttonEl =\n",
              "        document.querySelector('#df-cfa14df4-7505-4a8a-a985-c7476249dc38 button.colab-df-convert');\n",
              "      buttonEl.style.display =\n",
              "        google.colab.kernel.accessAllowed ? 'block' : 'none';\n",
              "\n",
              "      async function convertToInteractive(key) {\n",
              "        const element = document.querySelector('#df-cfa14df4-7505-4a8a-a985-c7476249dc38');\n",
              "        const dataTable =\n",
              "          await google.colab.kernel.invokeFunction('convertToInteractive',\n",
              "                                                    [key], {});\n",
              "        if (!dataTable) return;\n",
              "\n",
              "        const docLinkHtml = 'Like what you see? Visit the ' +\n",
              "          '<a target=\"_blank\" href=https://colab.research.google.com/notebooks/data_table.ipynb>data table notebook</a>'\n",
              "          + ' to learn more about interactive tables.';\n",
              "        element.innerHTML = '';\n",
              "        dataTable['output_type'] = 'display_data';\n",
              "        await google.colab.output.renderOutput(dataTable, element);\n",
              "        const docLink = document.createElement('div');\n",
              "        docLink.innerHTML = docLinkHtml;\n",
              "        element.appendChild(docLink);\n",
              "      }\n",
              "    </script>\n",
              "  </div>\n",
              "\n",
              "\n",
              "<div id=\"df-fbc0ee20-a06c-42a6-b443-3c28812ce386\">\n",
              "  <button class=\"colab-df-quickchart\" onclick=\"quickchart('df-fbc0ee20-a06c-42a6-b443-3c28812ce386')\"\n",
              "            title=\"Suggest charts\"\n",
              "            style=\"display:none;\">\n",
              "\n",
              "<svg xmlns=\"http://www.w3.org/2000/svg\" height=\"24px\"viewBox=\"0 0 24 24\"\n",
              "     width=\"24px\">\n",
              "    <g>\n",
              "        <path d=\"M19 3H5c-1.1 0-2 .9-2 2v14c0 1.1.9 2 2 2h14c1.1 0 2-.9 2-2V5c0-1.1-.9-2-2-2zM9 17H7v-7h2v7zm4 0h-2V7h2v10zm4 0h-2v-4h2v4z\"/>\n",
              "    </g>\n",
              "</svg>\n",
              "  </button>\n",
              "\n",
              "<style>\n",
              "  .colab-df-quickchart {\n",
              "      --bg-color: #E8F0FE;\n",
              "      --fill-color: #1967D2;\n",
              "      --hover-bg-color: #E2EBFA;\n",
              "      --hover-fill-color: #174EA6;\n",
              "      --disabled-fill-color: #AAA;\n",
              "      --disabled-bg-color: #DDD;\n",
              "  }\n",
              "\n",
              "  [theme=dark] .colab-df-quickchart {\n",
              "      --bg-color: #3B4455;\n",
              "      --fill-color: #D2E3FC;\n",
              "      --hover-bg-color: #434B5C;\n",
              "      --hover-fill-color: #FFFFFF;\n",
              "      --disabled-bg-color: #3B4455;\n",
              "      --disabled-fill-color: #666;\n",
              "  }\n",
              "\n",
              "  .colab-df-quickchart {\n",
              "    background-color: var(--bg-color);\n",
              "    border: none;\n",
              "    border-radius: 50%;\n",
              "    cursor: pointer;\n",
              "    display: none;\n",
              "    fill: var(--fill-color);\n",
              "    height: 32px;\n",
              "    padding: 0;\n",
              "    width: 32px;\n",
              "  }\n",
              "\n",
              "  .colab-df-quickchart:hover {\n",
              "    background-color: var(--hover-bg-color);\n",
              "    box-shadow: 0 1px 2px rgba(60, 64, 67, 0.3), 0 1px 3px 1px rgba(60, 64, 67, 0.15);\n",
              "    fill: var(--button-hover-fill-color);\n",
              "  }\n",
              "\n",
              "  .colab-df-quickchart-complete:disabled,\n",
              "  .colab-df-quickchart-complete:disabled:hover {\n",
              "    background-color: var(--disabled-bg-color);\n",
              "    fill: var(--disabled-fill-color);\n",
              "    box-shadow: none;\n",
              "  }\n",
              "\n",
              "  .colab-df-spinner {\n",
              "    border: 2px solid var(--fill-color);\n",
              "    border-color: transparent;\n",
              "    border-bottom-color: var(--fill-color);\n",
              "    animation:\n",
              "      spin 1s steps(1) infinite;\n",
              "  }\n",
              "\n",
              "  @keyframes spin {\n",
              "    0% {\n",
              "      border-color: transparent;\n",
              "      border-bottom-color: var(--fill-color);\n",
              "      border-left-color: var(--fill-color);\n",
              "    }\n",
              "    20% {\n",
              "      border-color: transparent;\n",
              "      border-left-color: var(--fill-color);\n",
              "      border-top-color: var(--fill-color);\n",
              "    }\n",
              "    30% {\n",
              "      border-color: transparent;\n",
              "      border-left-color: var(--fill-color);\n",
              "      border-top-color: var(--fill-color);\n",
              "      border-right-color: var(--fill-color);\n",
              "    }\n",
              "    40% {\n",
              "      border-color: transparent;\n",
              "      border-right-color: var(--fill-color);\n",
              "      border-top-color: var(--fill-color);\n",
              "    }\n",
              "    60% {\n",
              "      border-color: transparent;\n",
              "      border-right-color: var(--fill-color);\n",
              "    }\n",
              "    80% {\n",
              "      border-color: transparent;\n",
              "      border-right-color: var(--fill-color);\n",
              "      border-bottom-color: var(--fill-color);\n",
              "    }\n",
              "    90% {\n",
              "      border-color: transparent;\n",
              "      border-bottom-color: var(--fill-color);\n",
              "    }\n",
              "  }\n",
              "</style>\n",
              "\n",
              "  <script>\n",
              "    async function quickchart(key) {\n",
              "      const quickchartButtonEl =\n",
              "        document.querySelector('#' + key + ' button');\n",
              "      quickchartButtonEl.disabled = true;  // To prevent multiple clicks.\n",
              "      quickchartButtonEl.classList.add('colab-df-spinner');\n",
              "      try {\n",
              "        const charts = await google.colab.kernel.invokeFunction(\n",
              "            'suggestCharts', [key], {});\n",
              "      } catch (error) {\n",
              "        console.error('Error during call to suggestCharts:', error);\n",
              "      }\n",
              "      quickchartButtonEl.classList.remove('colab-df-spinner');\n",
              "      quickchartButtonEl.classList.add('colab-df-quickchart-complete');\n",
              "    }\n",
              "    (() => {\n",
              "      let quickchartButtonEl =\n",
              "        document.querySelector('#df-fbc0ee20-a06c-42a6-b443-3c28812ce386 button');\n",
              "      quickchartButtonEl.style.display =\n",
              "        google.colab.kernel.accessAllowed ? 'block' : 'none';\n",
              "    })();\n",
              "  </script>\n",
              "</div>\n",
              "\n",
              "    </div>\n",
              "  </div>\n"
            ],
            "application/vnd.google.colaboratory.intrinsic+json": {
              "type": "dataframe",
              "summary": "{\n  \"name\": \"df[['type','name']]\",\n  \"rows\": 11,\n  \"fields\": [\n    {\n      \"column\": \"type\",\n      \"properties\": {\n        \"dtype\": \"category\",\n        \"num_unique_values\": 1,\n        \"samples\": [\n          \"table\"\n        ],\n        \"semantic_type\": \"\",\n        \"description\": \"\"\n      }\n    },\n    {\n      \"column\": \"name\",\n      \"properties\": {\n        \"dtype\": \"string\",\n        \"num_unique_values\": 11,\n        \"samples\": [\n          \"Invoice\"\n        ],\n        \"semantic_type\": \"\",\n        \"description\": \"\"\n      }\n    }\n  ]\n}"
            }
          },
          "metadata": {},
          "execution_count": 1
        }
      ],
      "source": [
        "import sqlite3\n",
        "import pandas as pd\n",
        "\n",
        "# Connect to the SQLite database\n",
        "conn = sqlite3.connect('Chinook_Sqlite.sqlite')\n",
        "\n",
        "# Execute a query\n",
        "query = \"SELECT * FROM sqlite_master where type='table'\"\n",
        "\n",
        "df = pd.read_sql_query(query, conn)\n",
        "df[['type','name']]\n",
        "\n"
      ]
    },
    {
      "cell_type": "code",
      "source": [
        "# Read the first five rows from the Album table\n",
        "df = pd.read_sql_query(\"SELECT * FROM album limit 5\", conn)"
      ],
      "metadata": {
        "id": "IByCSlCPHfyp"
      },
      "execution_count": null,
      "outputs": []
    },
    {
      "cell_type": "markdown",
      "source": [
        "### **Question 1: List All Tables**\n",
        "\n",
        "**Scenario:**  \n",
        "Your manager, Alex, is new to the team and is trying to understand the structure of the Chinook database. Alex asks you to provide a list of all the tables in the database to get an overview of the available data.\n",
        "\n",
        "**Task:**  \n",
        "Write a query to list all tables in the Chinook database."
      ],
      "metadata": {
        "id": "EWaR48_jKk9l"
      }
    },
    {
      "cell_type": "code",
      "source": [],
      "metadata": {
        "id": "Xvl0VuNCKlVI"
      },
      "execution_count": null,
      "outputs": []
    },
    {
      "cell_type": "markdown",
      "source": [
        "### **Question 2: Retrieve Top 10 Records from the Albums Table**\n",
        "\n",
        "**Scenario:**  \n",
        "Alex wants to familiarize himself with the kind of albums stored in the database. He asks you to fetch a sample of the album records to get a better idea of the data.\n",
        "\n",
        "**Task:**  \n",
        "Write a query to retrieve the top 10 records from the Albums table.\n",
        "\n",
        "---\n"
      ],
      "metadata": {
        "id": "aKtEST6CKtp2"
      }
    },
    {
      "cell_type": "code",
      "source": [],
      "metadata": {
        "id": "cpOGb3OnKzFI"
      },
      "execution_count": null,
      "outputs": []
    },
    {
      "cell_type": "markdown",
      "source": [
        "\n",
        "### **Question 3: Count the Number of Tracks per Genre**\n",
        "\n",
        "**Scenario:**  \n",
        "To plan a marketing campaign, Alex needs to know which genres are most represented in the music store. He asks you to count the number of tracks available for each genre.\n",
        "\n",
        "**Task:**  \n",
        "Write a query to count the number of tracks per genre.\n",
        "\n",
        "---\n",
        "\n",
        "\n"
      ],
      "metadata": {
        "id": "44PU97cLK07k"
      }
    },
    {
      "cell_type": "code",
      "source": [
        "\n"
      ],
      "metadata": {
        "id": "NbsRwLOMK5Zw"
      },
      "execution_count": null,
      "outputs": []
    },
    {
      "cell_type": "markdown",
      "source": [
        "### **Question 4: Calculate the Total Sales by Country**\n",
        "\n",
        "**Scenario:**  \n",
        "Alex is interested in understanding the revenue distribution across different countries. He asks you to calculate the total sales generated from each country.\n",
        "\n",
        "**Task:**  \n",
        "Write a query to calculate the total sales by country."
      ],
      "metadata": {
        "id": "ORgDHk8vLH5k"
      }
    },
    {
      "cell_type": "code",
      "source": [],
      "metadata": {
        "id": "JTVvj44oLJVm"
      },
      "execution_count": null,
      "outputs": []
    },
    {
      "cell_type": "markdown",
      "source": [
        "\n",
        "### **Question 5: Identify the Top 5 Customers by Total Purchase Amount**\n",
        "\n",
        "**Scenario:**  \n",
        "To improve customer relationship management, Alex wants to identify the top spenders. He asks you to find out who the top 5 customers are based on their total purchase amount.\n",
        "\n",
        "**Task:**  \n",
        "Write a query to identify the top 5 customers by total purchase amount.\n",
        "\n",
        "---\n"
      ],
      "metadata": {
        "id": "UXTx0x4rLBE8"
      }
    },
    {
      "cell_type": "code",
      "source": [],
      "metadata": {
        "id": "ZH1PbjDtLMl6"
      },
      "execution_count": null,
      "outputs": []
    },
    {
      "cell_type": "markdown",
      "source": [
        "\n",
        "### **Question 6: Find the Most Popular Artist by Total Track Sales**\n",
        "\n",
        "**Scenario:**  \n",
        "Alex wants to identify the most popular artist in the store based on track sales. He asks you to find out which artist has the highest total track sales.\n",
        "\n",
        "**Task:**  \n",
        "Write a query to find the most popular artist by total track sales.\n",
        "\n",
        "---\n"
      ],
      "metadata": {
        "id": "Mtf6LDc2LNo6"
      }
    },
    {
      "cell_type": "code",
      "source": [],
      "metadata": {
        "id": "ahTCkRqkLRBR"
      },
      "execution_count": null,
      "outputs": []
    },
    {
      "cell_type": "markdown",
      "source": [
        "\n",
        "### **Question 7: Determine the Average Invoice Total by Customer Country**\n",
        "\n",
        "**Scenario:**  \n",
        "To understand the purchasing behavior of customers from different countries, Alex asks you to determine the average invoice total for each country.\n",
        "\n",
        "**Task:**  \n",
        "Write a query to determine the average invoice total by customer country.\n",
        "\n",
        "---\n",
        "\n"
      ],
      "metadata": {
        "id": "b_wWlf5qLRkI"
      }
    },
    {
      "cell_type": "code",
      "source": [],
      "metadata": {
        "id": "MGsaxtTBLXI1"
      },
      "execution_count": null,
      "outputs": []
    },
    {
      "cell_type": "markdown",
      "source": [
        "### **Question 8: Analyze Employee Sales Performance**\n",
        "\n",
        "**Scenario:**  \n",
        "Alex wants to evaluate the performance of the sales team. He asks you to analyze the sales performance of each employee.\n",
        "\n",
        "**Task:**  \n",
        "Write a query to analyze the sales performance of each employee.\n",
        "\n",
        "---\n",
        "\n"
      ],
      "metadata": {
        "id": "jvAn4ApzLXnE"
      }
    },
    {
      "cell_type": "code",
      "source": [],
      "metadata": {
        "id": "SYsQoJzSLZPL"
      },
      "execution_count": null,
      "outputs": []
    },
    {
      "cell_type": "markdown",
      "source": [
        "### **Question 9: Identify Trends in Monthly Sales**\n",
        "\n",
        "**Scenario:**  \n",
        "Alex wants to identify sales trends over time. He asks you to analyze the monthly sales data to spot any trends.\n",
        "\n",
        "**Task:**  \n",
        "Write a query to identify trends in monthly sales.\n",
        "\n",
        "---\n",
        "\n"
      ],
      "metadata": {
        "id": "H8qaoGDkLZpi"
      }
    },
    {
      "cell_type": "code",
      "source": [],
      "metadata": {
        "id": "9uHkW-WfLbSm"
      },
      "execution_count": null,
      "outputs": []
    },
    {
      "cell_type": "markdown",
      "source": [
        "### **Question 10: Recommend Marketing Strategies Based on Data Insights**\n",
        "\n",
        "**Scenario:**  \n",
        "Based on the insights you have gathered from the previous queries, Alex asks you to recommend at least two marketing strategies that MusicWave Inc. should consider to increase sales and customer satisfaction.\n",
        "\n",
        "**Task:**  \n",
        "Based on your analysis, write a brief recommendation for two marketing strategies that could help MusicWave Inc. increase sales and improve customer satisfaction."
      ],
      "metadata": {
        "id": "rl-AFQPeLbzo"
      }
    },
    {
      "cell_type": "code",
      "source": [],
      "metadata": {
        "id": "dQcU_BImLcLe"
      },
      "execution_count": null,
      "outputs": []
    }
  ]
}